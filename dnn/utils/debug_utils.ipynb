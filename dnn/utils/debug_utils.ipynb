{
 "cells": [
  {
   "cell_type": "code",
   "execution_count": 1,
   "metadata": {
    "collapsed": true
   },
   "outputs": [],
   "source": [
    "# Authors: Daichi Yoshikawa <daichi.yoshikawa@gmail.com>\n",
    "# License: BSD 3 clause\n",
    "\n",
    "from __future__ import absolute_import\n",
    "\n",
    "import numpy as np"
   ]
  },
  {
   "cell_type": "code",
   "execution_count": 2,
   "metadata": {
    "collapsed": true
   },
   "outputs": [],
   "source": [
    "class Monitor:\n",
    "    \"\"\"Implements feature to print out evaluation results.\n",
    "    \n",
    "    Warning\n",
    "    -------\n",
    "    Not supposed to be called directly.\n",
    "    Called while training neural network model.\n",
    "    \"\"\"\n",
    "    def print_loss(self, loss_train, loss_test, acc_train, acc_test, epoch):\n",
    "        \"\"\"Print losses and accuracies w.r.t training data and test data.\n",
    "\n",
    "        If test data was not used, loss_test is None and\n",
    "        losses and accuracies w.r.t test data are not printed.\n",
    "\n",
    "        Arguments\n",
    "        ---------\n",
    "        loss_train : float\n",
    "           Loss value w.r.t training data.\n",
    "        loss_test : float or None\n",
    "           Loss value w.r.t test data.\n",
    "        acc_train : float\n",
    "           Accuracy w.r.t training data.\n",
    "        acc_test : float or None\n",
    "           Accuracy w.r.t test data.\n",
    "        epoch : int\n",
    "           Number of epoch.\n",
    "        \"\"\"\n",
    "        if loss_test is None:\n",
    "            self.__print_loss_train(\n",
    "                    loss_train, acc_train, epoch\n",
    "            )\n",
    "        else:\n",
    "            self.__print_loss(\n",
    "                    loss_train, loss_test, acc_train, acc_test, epoch\n",
    "            )\n",
    "\n",
    "    def __print_loss_train(self, loss_train, acc_train, epoch):\n",
    "        if acc_train is None:\n",
    "            print('epoch: %4d, loss: %2.6f' % (epoch + 1, loss_train))\n",
    "        else:\n",
    "            print('epoch: %4d, loss: %2.6f, acc: %3.3f'\\\n",
    "                  % (epoch + 1, loss_train, acc_train))\n",
    "        \n",
    "    def __print_loss(self, loss_train, loss_test, acc_train, acc_test, epoch):\n",
    "        if acc_train is None:\n",
    "            print('epoch: %4d, loss: %2.6f, test loss: %2.6f'\\\n",
    "                  % (epoch + 1, loss_train, loss_test))\n",
    "        else:\n",
    "            print('epoch: %4d, loss: %2.6f, acc: %3.3f,\\\n",
    "                  test loss: %2.6f, test acc: %3.3f'\\\n",
    "                  % (epoch + 1, loss_train, acc_train, loss_test, acc_test))"
   ]
  },
  {
   "cell_type": "code",
   "execution_count": null,
   "metadata": {
    "collapsed": true
   },
   "outputs": [],
   "source": []
  }
 ],
 "metadata": {
  "kernelspec": {
   "display_name": "Python 3",
   "language": "python",
   "name": "python3"
  },
  "language_info": {
   "codemirror_mode": {
    "name": "ipython",
    "version": 3
   },
   "file_extension": ".py",
   "mimetype": "text/x-python",
   "name": "python",
   "nbconvert_exporter": "python",
   "pygments_lexer": "ipython3",
   "version": "3.5.2"
  }
 },
 "nbformat": 4,
 "nbformat_minor": 2
}
