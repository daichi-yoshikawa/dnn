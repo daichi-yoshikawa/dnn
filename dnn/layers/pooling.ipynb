{
 "cells": [
  {
   "cell_type": "code",
   "execution_count": null,
   "metadata": {
    "collapsed": true
   },
   "outputs": [],
   "source": [
    "# Authors: Daichi Yoshikawa <daichi.yoshikawa@gmail.com>\n",
    "# License: BSD 3 clause\n",
    "\n",
    "from __future__ import absolute_import\n",
    "\n",
    "import numpy as np\n",
    "\n",
    "from .layer import Layer\n",
    "from ..utils.conv_utils import im2col\n",
    "\n",
    "class PoolingLayer(Layer):\n",
    "    def __init__(self, pool_shape):\n",
    "        self.pool_shape = pool_shape\n",
    "\n",
    "    def get_type(self):\n",
    "        return 'pooling'\n",
    "\n",
    "    def set_parent(self, parent):\n",
    "        Layer.set_parent(self, parent)\n",
    "\n",
    "    def forward(self, x):\n",
    "        pass\n",
    "\n",
    "    def backward(self, dy):\n",
    "        pass\n",
    "\n",
    "    def predict(self, x):\n",
    "        pass\n",
    "\n",
    "    def finalize_training(self, x):\n",
    "        pass\n",
    "\n",
    "    def __forward(self, x):\n",
    "        pass\n",
    "\n",
    "    def __backward(self, dy):\n",
    "        pass"
   ]
  }
 ],
 "metadata": {
  "kernelspec": {
   "display_name": "Python 3",
   "language": "python",
   "name": "python3"
  },
  "language_info": {
   "codemirror_mode": {
    "name": "ipython",
    "version": 3
   },
   "file_extension": ".py",
   "mimetype": "text/x-python",
   "name": "python",
   "nbconvert_exporter": "python",
   "pygments_lexer": "ipython3",
   "version": "3.5.2"
  }
 },
 "nbformat": 4,
 "nbformat_minor": 2
}
