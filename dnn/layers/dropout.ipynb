{
 "cells": [
  {
   "cell_type": "code",
   "execution_count": 2,
   "metadata": {
    "collapsed": true
   },
   "outputs": [],
   "source": [
    "# Authors: Daichi Yoshikawa <daichi.yoshikawa@gmail.com>\n",
    "# License: BSD 3 clause\n",
    "\n",
    "from __future__ import absolute_import\n",
    "\n",
    "import numpy as np\n",
    "from .layer import Layer"
   ]
  },
  {
   "cell_type": "code",
   "execution_count": 3,
   "metadata": {
    "collapsed": true
   },
   "outputs": [],
   "source": [
    "class DropoutLayer(Layer):\n",
    "    \"\"\"Implement Dropout.\n",
    "\n",
    "    Derived class of Layer.\n",
    "\n",
    "    Parameters\n",
    "    ----------\n",
    "    drop_ratio : float\n",
    "        Ratio of neurons to drop out. If it is 0.2,\n",
    "        20% neurons will be dropped out and 80% neurons remain.\n",
    "    mask : np.array\n",
    "        Mask matrix in 2d array to dropout neurons.\n",
    "    dtype : type\n",
    "        Data type to use.\n",
    "\n",
    "    Reference\n",
    "    ---------\n",
    "    Dropout: A Simple Way to Prevent Neural Networks from Overfitting\n",
    "    https://www.cs.toronto.edu/~hinton/absps/JMLRdropout.pdf\n",
    "    \"\"\"\n",
    "\n",
    "    def __init__(self, drop_ratio):\n",
    "        self.drop_ratio = drop_ratio\n",
    "        self.mask = np.array([])\n",
    "\n",
    "    def set_dtype(self, dtype):\n",
    "        self.dtype = dtype\n",
    "        self.drop_ratio = dtype(self.drop_ratio)\n",
    "        self.mask = self.mask.astype(dtype)\n",
    "\n",
    "    def get_type(self):\n",
    "        return 'dropout'\n",
    "\n",
    "    def set_parent(self, parent):\n",
    "        Layer.set_parent(self, parent)\n",
    "        self.shape = parent.shape\n",
    "        self.mask = np.ones(self.shape, dtype=self.dtype)\n",
    "\n",
    "    def forward(self, x):\n",
    "        self.mask = np.random.rand(self.mask.shape[0]) <= (1. - self.drop_ratio)\n",
    "        self.fire = self.mask * x\n",
    "        self.child.forward(self.fire)\n",
    "\n",
    "    def backward(self, dy):\n",
    "        self.backfire = self.mask * dy\n",
    "        self.parent.backward(self.backfire)\n",
    "\n",
    "    def predict_to_eval(self, x):\n",
    "        self.fire = (1. - self.drop_ratio) * x\n",
    "        return self.child.predict_to_eval(self.fire)\n",
    "\n",
    "    def predict(self, x):\n",
    "        self.fire = (1. - self.drop_ratio) * x\n",
    "        return self.child.predict(self.fire)\n",
    "\n",
    "    def finalize_training(self, x):\n",
    "        self.fire = (1. - self.drop_ratio) * x\n",
    "        self.child.finalize_training(self.fire)"
   ]
  },
  {
   "cell_type": "code",
   "execution_count": null,
   "metadata": {
    "collapsed": true
   },
   "outputs": [],
   "source": []
  }
 ],
 "metadata": {
  "kernelspec": {
   "display_name": "Python 3",
   "language": "python",
   "name": "python3"
  },
  "language_info": {
   "codemirror_mode": {
    "name": "ipython",
    "version": 3
   },
   "file_extension": ".py",
   "mimetype": "text/x-python",
   "name": "python",
   "nbconvert_exporter": "python",
   "pygments_lexer": "ipython3",
   "version": "3.5.2"
  }
 },
 "nbformat": 4,
 "nbformat_minor": 2
}
