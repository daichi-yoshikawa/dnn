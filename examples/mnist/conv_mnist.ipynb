{
 "cells": [
  {
   "cell_type": "code",
   "execution_count": 1,
   "metadata": {
    "scrolled": true
   },
   "outputs": [
    {
     "name": "stdout",
     "output_type": "stream",
     "text": [
      " 0-th layer, shape : (1, 28, 28), input\n",
      " 1-th layer, shape : (1, 28, 28), convolution\n",
      " 2-th layer, shape : (1, 28, 28), activation\n",
      " 3-th layer, shape : 10, affine\n",
      " 4-th layer, shape : 10, activation\n",
      " 5-th layer, shape : 10, output\n",
      "Load MNIST data ........ Done.\n"
     ]
    },
    {
     "data": {
      "image/png": "[encoded data removed]",
      "text/plain": [
       "<matplotlib.figure.Figure at 0x7fee482595c0>"
      ]
     },
     "metadata": {},
     "output_type": "display_data"
    },
    {
     "name": "stdout",
     "output_type": "stream",
     "text": [
      "\n"
     ]
    }
   ],
   "source": [
    "# Authors: Daichi Yoshikawa <daichi.yoshikawa@gmail.com>\n",
    "# License: BSD 3 clause\n",
    "\n",
    "from __future__ import absolute_import\n",
    "\n",
    "import sys\n",
    "sys.path.append('../../')\n",
    "\n",
    "import matplotlib.pyplot as plt\n",
    "import pickle\n",
    "import numpy as np\n",
    "import dnn\n",
    "from dnn.neuralnet import NeuralNetwork\n",
    "from dnn.utils.nn_utils import scale_normalization\n",
    "\n",
    "from dnn.training.optimizer import AdaGrad, AdaDelta, RMSProp\n",
    "from dnn.training.random_weight import RandomWeight\n",
    "from dnn.training.loss_function import LossFunction\n",
    "\n",
    "from dnn.layers.affine import AffineLayer\n",
    "from dnn.layers.convolution import ConvolutionalLayer\n",
    "from dnn.layers.activation import Activation, ActivationLayer\n",
    "from dnn.layers.dropout import DropoutLayer\n",
    "from dnn.layers.batch_norm import BatchNormLayer\n",
    "\n",
    "def get_mnist():\n",
    "    sys.stdout.write('Load MNIST data .')\n",
    "    x = np.load('input1.npy')\n",
    "    sys.stdout.write('.')\n",
    "    x = np.r_[x, np.load('input2.npy')]\n",
    "    sys.stdout.write('.')\n",
    "    x = np.r_[x, np.load('input3.npy')]\n",
    "    sys.stdout.write('.')\n",
    "    x = np.r_[x, np.load('input4.npy')]\n",
    "    sys.stdout.write('.')\n",
    "    x = np.r_[x, np.load('input5.npy')]\n",
    "    sys.stdout.write('.')\n",
    "    x = np.r_[x, np.load('input6.npy')]\n",
    "    sys.stdout.write('.')\n",
    "    x = np.r_[x, np.load('input7.npy')]\n",
    "    x = x.astype(float)\n",
    "\n",
    "    sys.stdout.write('.')\n",
    "    y = np.load('output.npy')\n",
    "    y = y.astype(float)\n",
    "\n",
    "    sys.stdout.write(' Done.\\n')\n",
    "\n",
    "    return x, y\n",
    "\n",
    "dtype = np.float32\n",
    "model = NeuralNetwork(input_shape=(1, 28, 28), dtype=dtype)\n",
    "model.add(ConvolutionalLayer(shape=(1, 28, 28), f_shape=(1, 3, 3)))\n",
    "#model.add(AffineLayer(shape=(784, 400), random_weight=RandomWeight.Type.he))\n",
    "model.add(ActivationLayer(activation=Activation.Type.srrelu))\n",
    "\n",
    "model.add(AffineLayer(shape=(400, 10), random_weight=RandomWeight.Type.default))\n",
    "model.add(ActivationLayer(activation=Activation.Type.softmax))\n",
    "model.compile()\n",
    "\n",
    "model.print_config()\n",
    "\n",
    "x, y = get_mnist()\n",
    "scale_normalization(x)\n",
    "\n",
    "x = x.reshape(-1, 1, 28, 28)\n",
    "plt.imshow(x[20000][0])\n",
    "plt.show()\n",
    "\n",
    "optimizer = AdaGrad(learning_rate=5e-2, weight_decay=1e-3, dtype=dtype)\n",
    "\n",
    "\"\"\"\n",
    "lc = model.fit(\n",
    "        x=x,\n",
    "        y=y,\n",
    "        epochs=10,\n",
    "        batch_size=100,\n",
    "        optimizer=optimizer,\n",
    "        loss_function=LossFunction.Type.multinomial_cross_entropy,\n",
    "        learning_curve=True,\n",
    "        shuffle=True,\n",
    "        shuffle_per_epoch=True,\n",
    "        test_data_ratio=0.142857 # Use 60,000 for training and 10,000 for test.\n",
    ")\n",
    "\n",
    "lc.plot(figsize=(8,10), fontsize=12)\n",
    "model.show_filters(0, shape=(28, 28), layout=(10, 10), figsize=(12, 12))\n",
    "\"\"\"\n",
    "print('')"
   ]
  },
  {
   "cell_type": "code",
   "execution_count": null,
   "metadata": {
    "collapsed": true
   },
   "outputs": [],
   "source": []
  }
 ],
 "metadata": {
  "kernelspec": {
   "display_name": "Python 3",
   "language": "python",
   "name": "python3"
  },
  "language_info": {
   "codemirror_mode": {
    "name": "ipython",
    "version": 3
   },
   "file_extension": ".py",
   "mimetype": "text/x-python",
   "name": "python",
   "nbconvert_exporter": "python",
   "pygments_lexer": "ipython3",
   "version": "3.5.2"
  }
 },
 "nbformat": 4,
 "nbformat_minor": 2
}
