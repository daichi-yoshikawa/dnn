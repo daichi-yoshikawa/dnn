{
 "cells": [
  {
   "cell_type": "code",
   "execution_count": null,
   "metadata": {
    "scrolled": true
   },
   "outputs": [
    {
     "name": "stdout",
     "output_type": "stream",
     "text": [
      "100.00% epoch: 1 loss: 0.10171 acc: 0.970 loss(test): 0.12431 acc(test): 0.962\n",
      "100.00% epoch: 2 loss: 0.07596 acc: 0.977 loss(test): 0.10239 acc(test): 0.968\n",
      "100.00% epoch: 3 loss: 0.05871 acc: 0.983 loss(test): 0.08760 acc(test): 0.972\n",
      "100.00% epoch: 4 loss: 0.04979 acc: 0.986 loss(test): 0.08043 acc(test): 0.975\n",
      "100.00% epoch: 5 loss: 0.04315 acc: 0.987 loss(test): 0.07545 acc(test): 0.978\n",
      "100.00% epoch: 6 loss: 0.03942 acc: 0.988 loss(test): 0.07244 acc(test): 0.978\n",
      "100.00% epoch: 7 loss: 0.03334 acc: 0.990 loss(test): 0.06756 acc(test): 0.979\n",
      "100.00% epoch: 8 loss: 0.03157 acc: 0.990 loss(test): 0.06749 acc(test): 0.979\n",
      "100.00% epoch: 9 loss: 0.02724 acc: 0.992 loss(test): 0.06461 acc(test): 0.981\n",
      "100.00% epoch:10 loss: 0.02489 acc: 0.993 loss(test): 0.06202 acc(test): 0.981\n",
      "100.00% epoch:11 loss: 0.02385 acc: 0.993 loss(test): 0.06250 acc(test): 0.982\n",
      "100.00% epoch:12 loss: 0.02353 acc: 0.993 loss(test): 0.06373 acc(test): 0.981\n",
      "100.00% epoch:13 loss: 0.02132 acc: 0.994 loss(test): 0.06125 acc(test): 0.982\n",
      "100.00% epoch:14 loss: 0.01873 acc: 0.995 loss(test): 0.06080 acc(test): 0.982\n",
      "100.00% epoch:15 loss: 0.01824 acc: 0.995 loss(test): 0.06159 acc(test): 0.982\n",
      "100.00% epoch:16 loss: 0.01705 acc: 0.995 loss(test): 0.06044 acc(test): 0.982\n",
      "100.00% epoch:17 loss: 0.01729 acc: 0.995 loss(test): 0.05860 acc(test): 0.981\n",
      "100.00% epoch:18 loss: 0.01644 acc: 0.996 loss(test): 0.05902 acc(test): 0.981\n",
      "100.00% epoch:19 loss: 0.01489 acc: 0.996 loss(test): 0.05840 acc(test): 0.983\n",
      "33.67% "
     ]
    }
   ],
   "source": [
    "# Authors: Daichi Yoshikawa <daichi.yoshikawa@gmail.com>\n",
    "# License: BSD 3 clause\n",
    "\n",
    "from __future__ import absolute_import\n",
    "\n",
    "import sys\n",
    "sys.path.append('../../')\n",
    "\n",
    "import pickle\n",
    "import numpy as np\n",
    "import dnn\n",
    "from dnn.neuralnet import NeuralNetwork\n",
    "from dnn.utils.nn_utils import scale_normalization\n",
    "\n",
    "from dnn.training.optimizer import Adam, AdaGrad, AdaDelta, Momentum\n",
    "from dnn.training.random_weight import RandomWeight\n",
    "from dnn.training.loss_function import LossFunction\n",
    "\n",
    "from dnn.layers.affine import AffineLayer\n",
    "from dnn.layers.activation import Activation, ActivationLayer\n",
    "from dnn.layers.dropout import DropoutLayer\n",
    "from dnn.layers.batch_norm import BatchNormLayer\n",
    "\n",
    "def get_mnist():\n",
    "    x = np.load('input1.npy')\n",
    "    x = np.r_[x, np.load('input2.npy')]\n",
    "    x = np.r_[x, np.load('input3.npy')]\n",
    "    x = np.r_[x, np.load('input4.npy')]\n",
    "    x = np.r_[x, np.load('input5.npy')]\n",
    "    x = np.r_[x, np.load('input6.npy')]\n",
    "    x = np.r_[x, np.load('input7.npy')]\n",
    "    x = x.astype(float)\n",
    "    \n",
    "    y = np.load('output.npy')\n",
    "    y = y.astype(float)\n",
    "    \n",
    "    return x, y\n",
    "\n",
    "dtype = np.float32\n",
    "model = NeuralNetwork(input_shape=(784), dtype=dtype)\n",
    "model.add(DropoutLayer(drop_ratio=0.2))\n",
    "model.add(AffineLayer(shape=(784, 392), random_weight=RandomWeight.Type.he))\n",
    "model.add(BatchNormLayer())\n",
    "model.add(ActivationLayer(activation=Activation.Type.relu))\n",
    "model.add(DropoutLayer(drop_ratio=0.5))\n",
    "model.add(AffineLayer(shape=(392, 10), random_weight=RandomWeight.Type.xavier))\n",
    "model.add(BatchNormLayer())\n",
    "model.add(ActivationLayer(activation=Activation.Type.softmax))\n",
    "model.compile()\n",
    "\n",
    "x, y = get_mnist()\n",
    "scale_normalization(x)\n",
    "\n",
    "optimizer = AdaGrad(learning_rate=5e-2, weight_decay=1e-3, dtype=dtype)\n",
    "\n",
    "lc = model.fit(\n",
    "        x=x,\n",
    "        y=y,\n",
    "        epochs=20,\n",
    "        batch_size=100,\n",
    "        optimizer=optimizer,\n",
    "        loss_function=LossFunction.Type.multinomial_cross_entropy,\n",
    "        learning_curve=True,\n",
    "        shuffle=True,\n",
    "        shuffle_per_epoch=True,\n",
    "        test_data_ratio=0.142857 # Use 60,000 for training and 10,000 for test.\n",
    ")\n",
    "\n",
    "lc.plot(figsize=(8,10), fontsize=12)"
   ]
  },
  {
   "cell_type": "code",
   "execution_count": null,
   "metadata": {
    "collapsed": true
   },
   "outputs": [],
   "source": []
  }
 ],
 "metadata": {
  "kernelspec": {
   "display_name": "Python 3",
   "language": "python",
   "name": "python3"
  },
  "language_info": {
   "codemirror_mode": {
    "name": "ipython",
    "version": 3
   },
   "file_extension": ".py",
   "mimetype": "text/x-python",
   "name": "python",
   "nbconvert_exporter": "python",
   "pygments_lexer": "ipython3",
   "version": "3.5.2"
  }
 },
 "nbformat": 4,
 "nbformat_minor": 2
}
