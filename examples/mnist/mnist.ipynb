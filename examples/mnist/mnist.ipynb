{
 "cells": [
  {
   "cell_type": "code",
   "execution_count": 19,
   "metadata": {
    "collapsed": true,
    "scrolled": false
   },
   "outputs": [],
   "source": [
    "# Authors: Daichi Yoshikawa <daichi.yoshikawa@gmail.com>\n",
    "# License: BSD 3 clause\n",
    "\n",
    "from __future__ import absolute_import\n",
    "\n",
    "import sys\n",
    "sys.path.append('../../')\n",
    "\n",
    "import numpy as np\n",
    "import dnn\n",
    "from dnn.neuralnet import NeuralNetwork\n",
    "from dnn.utils.nn_utils import scale_normalization\n",
    "\n",
    "from dnn.training.optimizer import Adam, AdaGrad, AdaDelta, Momentum\n",
    "from dnn.training.random_weight import RandomWeight\n",
    "from dnn.training.loss_function import LossFunction\n",
    "\n",
    "from dnn.layers.layer import InputLayer, OutputLayer\n",
    "from dnn.layers.affine import AffineLayer\n",
    "\n",
    "from dnn.layers.activation import Activation, ActivationLayer\n",
    "from dnn.layers.dropout import DropoutLayer\n",
    "from dnn.layers.batch_norm import BatchNormLayer"
   ]
  },
  {
   "cell_type": "code",
   "execution_count": 27,
   "metadata": {
    "collapsed": true
   },
   "outputs": [],
   "source": [
    "def get_mnist():\n",
    "    x = np.load('input1.npy')\n",
    "    x = np.r_[x, np.load('input2.npy')]\n",
    "    x = np.r_[x, np.load('input3.npy')]\n",
    "    x = np.r_[x, np.load('input4.npy')]\n",
    "    x = np.r_[x, np.load('input5.npy')]\n",
    "    x = np.r_[x, np.load('input6.npy')]\n",
    "    x = np.r_[x, np.load('input7.npy')]\n",
    "    x = x.astype(float)\n",
    "    \n",
    "    y = np.load('output.npy')\n",
    "    y = y.astype(float)\n",
    "    \n",
    "    return x, y"
   ]
  },
  {
   "cell_type": "code",
   "execution_count": 52,
   "metadata": {},
   "outputs": [
    {
     "name": "stdout",
     "output_type": "stream",
     "text": [
      "epoch:    1, loss: 0.083174, acc: 0.976,                  test loss: 0.106830, test acc: 0.968\n",
      "epoch:    2, loss: 0.052186, acc: 0.985,                  test loss: 0.084823, test acc: 0.973\n",
      "epoch:    3, loss: 0.039546, acc: 0.989,                  test loss: 0.079027, test acc: 0.975\n",
      "epoch:    4, loss: 0.029646, acc: 0.992,                  test loss: 0.074335, test acc: 0.977\n",
      "epoch:    5, loss: 0.024133, acc: 0.994,                  test loss: 0.073932, test acc: 0.977\n",
      "epoch:    6, loss: 0.021804, acc: 0.994,                  test loss: 0.074526, test acc: 0.977\n",
      "epoch:    7, loss: 0.016657, acc: 0.996,                  test loss: 0.070263, test acc: 0.979\n",
      "epoch:    8, loss: 0.013441, acc: 0.997,                  test loss: 0.066237, test acc: 0.980\n",
      "epoch:    9, loss: 0.012196, acc: 0.997,                  test loss: 0.067511, test acc: 0.980\n",
      "epoch:   10, loss: 0.010561, acc: 0.998,                  test loss: 0.075721, test acc: 0.978\n",
      "0.99765\n",
      "0.9784\n"
     ]
    }
   ],
   "source": [
    "dtype = np.float32\n",
    "neuralnet = NeuralNetwork(dtype=dtype)\n",
    "neuralnet.add(InputLayer(shape=784))\n",
    "#neuralnet.add(DropoutLayer(drop_ratio=0.2))\n",
    "neuralnet.add(AffineLayer(shape=(784, 100), random_weight=RandomWeight.Type.he))\n",
    "neuralnet.add(BatchNormLayer())\n",
    "neuralnet.add(ActivationLayer(activation=Activation.Type.relu))\n",
    "#neuralnet.add(DropoutLayer(drop_ratio=0.5))\n",
    "neuralnet.add(AffineLayer(shape=(100, 10), random_weight=RandomWeight.Type.xavier))\n",
    "neuralnet.add(BatchNormLayer())\n",
    "neuralnet.add(ActivationLayer(activation=Activation.Type.softmax))\n",
    "neuralnet.add(OutputLayer(shape=10))\n",
    "neuralnet.compile()\n",
    "\n",
    "x, y = get_mnist()\n",
    "scale_normalization(x)\n",
    "\n",
    "optimizer = AdaGrad(learning_rate=3e-2, weight_decay=1e-3, dtype=dtype)\n",
    "\n",
    "neuralnet.fit(\n",
    "        x=x,\n",
    "        y=y,\n",
    "        epochs=10,\n",
    "        batch_size=100,\n",
    "        optimizer=optimizer,\n",
    "        loss_function=LossFunction.Type.multinomial_cross_entropy,\n",
    "        monitor=True,\n",
    "        shuffle=True,\n",
    "        shuffle_per_epoch=True,\n",
    "        test_data_ratio=0.142857\n",
    ")"
   ]
  },
  {
   "cell_type": "code",
   "execution_count": null,
   "metadata": {
    "collapsed": true
   },
   "outputs": [],
   "source": []
  }
 ],
 "metadata": {
  "kernelspec": {
   "display_name": "Python 3",
   "language": "python",
   "name": "python3"
  },
  "language_info": {
   "codemirror_mode": {
    "name": "ipython",
    "version": 3
   },
   "file_extension": ".py",
   "mimetype": "text/x-python",
   "name": "python",
   "nbconvert_exporter": "python",
   "pygments_lexer": "ipython3",
   "version": "3.5.2"
  }
 },
 "nbformat": 4,
 "nbformat_minor": 2
}
